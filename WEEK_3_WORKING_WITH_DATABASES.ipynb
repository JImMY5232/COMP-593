{
  "nbformat": 4,
  "nbformat_minor": 0,
  "metadata": {
    "colab": {
      "name": "WEEK 3 WORKING WITH DATABASES",
      "provenance": [],
      "include_colab_link": true
    },
    "kernelspec": {
      "display_name": "Python 3",
      "name": "python3"
    }
  },
  "cells": [
    {
      "cell_type": "markdown",
      "metadata": {
        "id": "view-in-github",
        "colab_type": "text"
      },
      "source": [
        "<a href=\"https://colab.research.google.com/github/JImMY5232/COMP-593/blob/main/WEEK_3_WORKING_WITH_DATABASES.ipynb\" target=\"_parent\"><img src=\"https://colab.research.google.com/assets/colab-badge.svg\" alt=\"Open In Colab\"/></a>"
      ]
    },
    {
      "cell_type": "markdown",
      "metadata": {
        "id": "ATrLBWinTKCJ"
      },
      "source": [
        "# LAB 3: WORKING WITH DATABASES\n"
      ]
    },
    {
      "cell_type": "markdown",
      "metadata": {
        "id": "bH4FqkVLTWRU"
      },
      "source": [
        "## Introduction\n",
        "\n",
        "During this lab, we will experiment with using a few different libararies and modules to connect to and interact with an SQLite database. After creating and configuring our testing database, we will populate it with Fake data and run some queries to see what kind of information we can retreive. For context, we will be creating RSSN, the \"Really Simple Social Network\"."
      ]
    },
    {
      "cell_type": "markdown",
      "metadata": {
        "id": "YtugCh8QUPoi"
      },
      "source": [
        "## Creating a SQLite Database\n",
        "\n",
        "We will be utilizing the `sqlite3` library to create our database file, as it offers the convienience of creating our database file automatically in the event that it cannot find an existing file at the path specified.\n",
        "\n",
        "**Before you run the below code:**\n",
        "On the left of the notebook, select the file folder icon. Then, after you run the code block, you should be able to observe the creation of the database file. If it doesn't appear, try clicking the \"Refresh\" button above the list of folders."
      ]
    },
    {
      "cell_type": "code",
      "metadata": {
        "id": "pzyTkI5PPjib",
        "colab": {
          "base_uri": "https://localhost:8080/"
        },
        "outputId": "baecc2bc-ea2b-4132-afd8-b90a429fb24b"
      },
      "source": [
        "import sqlite3\n",
        "\n",
        "#When we retreive a Connection object, a new database will be created for us if it doesn't already exist. \n",
        "myConnection = sqlite3.connect('social_network.db')\n",
        "print(sqlite3.version)"
      ],
      "execution_count": 1,
      "outputs": [
        {
          "output_type": "stream",
          "name": "stdout",
          "text": [
            "2.6.0\n"
          ]
        }
      ]
    },
    {
      "cell_type": "markdown",
      "metadata": {
        "id": "gRxXXt8iVmAp"
      },
      "source": [
        "## Creating a Table\n"
      ]
    },
    {
      "cell_type": "markdown",
      "metadata": {
        "id": "plmEQRdNaDMe"
      },
      "source": [
        "We'll use the below code to create a table called `people` within our database. "
      ]
    },
    {
      "cell_type": "code",
      "metadata": {
        "colab": {
          "base_uri": "https://localhost:8080/"
        },
        "id": "uyjSS3cQVwFa",
        "outputId": "39df1afc-f70f-4576-91fe-d39eba15e2d4"
      },
      "source": [
        "import sqlite3\n",
        "\n",
        "#Retreive the Connection object\n",
        "myConnection = sqlite3.connect('social_network.db')\n",
        "\n",
        "#Once we have a Connection object, we can generate a Cursor object, and use that to run our SQL Queries\n",
        "myCursor = myConnection.cursor()\n",
        "\n",
        "#Let's define the SQL Query we will use to create our first table:\n",
        "createPeopleTable = \"\"\" CREATE TABLE IF NOT EXISTS people (\n",
        "                          id integer PRIMARY KEY,\n",
        "                          name text NOT NULL,\n",
        "                          email text NOT NULL,\n",
        "                          address text NOT NULL,\n",
        "                          city text NOT NULL,\n",
        "                          province text NOT NULL,\n",
        "                          country text NOT NULL,\n",
        "                          phone text,\n",
        "                          bio text,\n",
        "                          dob date NOT NULL,\n",
        "                          heatmap integer,\n",
        "                          created_at datetime NOT NULL,\n",
        "                          updated_at datetime NOT NULL,\n",
        "                          ipv4 text\n",
        "                        );\"\"\"\n",
        "\n",
        "#Now that we have the string to create our table,\n",
        "#Cursor objects have an execute() method which will accept an SQL string and perform the operations described.\n",
        "\n",
        "myCursor.execute(createPeopleTable)\n",
        "\n",
        "#We can confirm if our table was created successfully by running the following SQL Query\n",
        "#pragma_table_info is an internal SQLite function that will retun information about a table\n",
        "myCursor.execute(\"SELECT group_concat(name, ', ') FROM pragma_table_info('people')\")\n",
        "print(myCursor.fetchone())\n",
        "\n",
        "#We use to the commit() method on the database Connection object to persist our changes\n",
        "myConnection.commit()\n",
        "\n",
        "#It is always a good idea to close a connection when it will no longer be used\n",
        "myConnection.close()\n"
      ],
      "execution_count": 2,
      "outputs": [
        {
          "output_type": "stream",
          "name": "stdout",
          "text": [
            "('id, name, email, address, city, province, country, phone, bio, dob, heatmap, created_at, updated_at, ipv4',)\n"
          ]
        }
      ]
    },
    {
      "cell_type": "markdown",
      "metadata": {
        "id": "5swGTtjga2qo"
      },
      "source": [
        "\n",
        "If you received a tuple containing the names of the columns, awesome! We have successfully created our database table.\n",
        "```\n",
        "('id, name, email, address, city, province, country, phone, bio, created_at, updated_at',)\n",
        "```\n",
        "\n",
        "Run the below code block to add our first entry."
      ]
    },
    {
      "cell_type": "code",
      "metadata": {
        "id": "ZSPqve9na7b8",
        "colab": {
          "base_uri": "https://localhost:8080/"
        },
        "outputId": "f77e8b92-8290-4ce3-8fdb-609adc05c0b0"
      },
      "source": [
        "import sqlite3\n",
        "from pprint import pprint #Outputs data in a slightly easier to read format\n",
        "from datetime import datetime #For generating dates and times\n",
        "\n",
        "#Retreive the Connection object\n",
        "myConnection = sqlite3.connect('social_network.db')\n",
        "\n",
        "#Once we have a Connection object, we can generate a Cursor object, and use that to run our SQL Queries\n",
        "myCursor = myConnection.cursor()\n",
        "\n",
        "#Let's define the SQL Query we will use to create our first entry:\n",
        "addPersonQuery = \"\"\"INSERT INTO people (name, \n",
        "                      email, \n",
        "                      address, \n",
        "                      city, \n",
        "                      province, \n",
        "                      country, \n",
        "                      phone, \n",
        "                      bio,\n",
        "                      dob,\n",
        "                      heatmap,\n",
        "                      created_at, \n",
        "                      updated_at, \n",
        "                      ipv4)\n",
        "                  VALUES (?, ?, ?, ?, ?, ?, ?, ?, ?, ?, ?, ?, ?);\"\"\"\n",
        "\n",
        "\"\"\"\n",
        "The ?'s are placeholders that we can fill in when we use the execute() method.\n",
        "This is really handy for code reuse, as we can pass those values are variables in a tuple\n",
        "Instead of hard coding them into the statement.\n",
        "\"\"\"\n",
        "\n",
        "myPerson = (\"John Doe\", \n",
        "            \"johndoe@anon.null\", \n",
        "            \"123 Fake St.\", \n",
        "            \"Fakesville\", \n",
        "            \"Fakesdom\", \n",
        "            \"Fakopolis\", \n",
        "            None, \n",
        "            None,\n",
        "            \"1967-09-12\",\n",
        "            0,\n",
        "            datetime.now(), \n",
        "            datetime.now(),\n",
        "            None)\n",
        "\n",
        "myCursor.execute(addPersonQuery, myPerson)\n",
        "\n",
        "#We can confirm if our table was created successfully by running the following SQL Query\n",
        "#pragma_table_info is an internal SQLite function that will retun information about a table\n",
        "myCursor.execute(\"SELECT * FROM people\")\n",
        "pprint(myCursor.fetchall())\n",
        "\n",
        "# If you run this code block a few times, you will see that you only have 1 entry,\n",
        "# If you uncomment the below lines and run the block a few more times, you will begin to see multiple entries.\n",
        "myConnection.commit()\n",
        "myConnection.close()"
      ],
      "execution_count": 3,
      "outputs": [
        {
          "output_type": "stream",
          "name": "stdout",
          "text": [
            "[(1,\n",
            "  'John Doe',\n",
            "  'johndoe@anon.null',\n",
            "  '123 Fake St.',\n",
            "  'Fakesville',\n",
            "  'Fakesdom',\n",
            "  'Fakopolis',\n",
            "  None,\n",
            "  None,\n",
            "  '1967-09-12',\n",
            "  0,\n",
            "  '2022-03-04 16:28:19.748684',\n",
            "  '2022-03-04 16:28:19.748698',\n",
            "  None)]\n"
          ]
        }
      ]
    },
    {
      "cell_type": "code",
      "metadata": {
        "id": "blL9pzRCgrMP"
      },
      "source": [
        ""
      ],
      "execution_count": null,
      "outputs": []
    },
    {
      "cell_type": "markdown",
      "metadata": {
        "id": "BTZ00Zscgrus"
      },
      "source": [
        "# Lab Submission"
      ]
    },
    {
      "cell_type": "markdown",
      "metadata": {
        "id": "rN93XC6xgvwP"
      },
      "source": [
        "We're going to build our experience with working with Libraries and examining documentation by populating our 'People' table with data provided to us by the `Faker` library. `Faker` is used to generate fake data and is very helpful for the rapid generation of databases for the purposes of testing. Run the two blocks below to install faker and get an idea of what it can do."
      ]
    },
    {
      "cell_type": "code",
      "metadata": {
        "id": "CejUXkoRhPik",
        "colab": {
          "base_uri": "https://localhost:8080/"
        },
        "outputId": "7d60cd28-7653-4d6a-9daf-8554da7b7367"
      },
      "source": [
        "!pip install faker"
      ],
      "execution_count": 4,
      "outputs": [
        {
          "output_type": "stream",
          "name": "stdout",
          "text": [
            "Collecting faker\n",
            "  Downloading Faker-13.3.0-py3-none-any.whl (1.5 MB)\n",
            "\u001b[?25l\r\u001b[K     |▏                               | 10 kB 25.7 MB/s eta 0:00:01\r\u001b[K     |▍                               | 20 kB 14.4 MB/s eta 0:00:01\r\u001b[K     |▋                               | 30 kB 10.6 MB/s eta 0:00:01\r\u001b[K     |▉                               | 40 kB 9.0 MB/s eta 0:00:01\r\u001b[K     |█                               | 51 kB 4.5 MB/s eta 0:00:01\r\u001b[K     |█▎                              | 61 kB 5.3 MB/s eta 0:00:01\r\u001b[K     |█▌                              | 71 kB 5.2 MB/s eta 0:00:01\r\u001b[K     |█▊                              | 81 kB 5.7 MB/s eta 0:00:01\r\u001b[K     |██                              | 92 kB 6.3 MB/s eta 0:00:01\r\u001b[K     |██▏                             | 102 kB 5.1 MB/s eta 0:00:01\r\u001b[K     |██▍                             | 112 kB 5.1 MB/s eta 0:00:01\r\u001b[K     |██▋                             | 122 kB 5.1 MB/s eta 0:00:01\r\u001b[K     |██▉                             | 133 kB 5.1 MB/s eta 0:00:01\r\u001b[K     |███                             | 143 kB 5.1 MB/s eta 0:00:01\r\u001b[K     |███▎                            | 153 kB 5.1 MB/s eta 0:00:01\r\u001b[K     |███▌                            | 163 kB 5.1 MB/s eta 0:00:01\r\u001b[K     |███▊                            | 174 kB 5.1 MB/s eta 0:00:01\r\u001b[K     |████                            | 184 kB 5.1 MB/s eta 0:00:01\r\u001b[K     |████▏                           | 194 kB 5.1 MB/s eta 0:00:01\r\u001b[K     |████▍                           | 204 kB 5.1 MB/s eta 0:00:01\r\u001b[K     |████▋                           | 215 kB 5.1 MB/s eta 0:00:01\r\u001b[K     |████▉                           | 225 kB 5.1 MB/s eta 0:00:01\r\u001b[K     |█████                           | 235 kB 5.1 MB/s eta 0:00:01\r\u001b[K     |█████▎                          | 245 kB 5.1 MB/s eta 0:00:01\r\u001b[K     |█████▌                          | 256 kB 5.1 MB/s eta 0:00:01\r\u001b[K     |█████▊                          | 266 kB 5.1 MB/s eta 0:00:01\r\u001b[K     |██████                          | 276 kB 5.1 MB/s eta 0:00:01\r\u001b[K     |██████▏                         | 286 kB 5.1 MB/s eta 0:00:01\r\u001b[K     |██████▍                         | 296 kB 5.1 MB/s eta 0:00:01\r\u001b[K     |██████▋                         | 307 kB 5.1 MB/s eta 0:00:01\r\u001b[K     |██████▉                         | 317 kB 5.1 MB/s eta 0:00:01\r\u001b[K     |███████                         | 327 kB 5.1 MB/s eta 0:00:01\r\u001b[K     |███████▎                        | 337 kB 5.1 MB/s eta 0:00:01\r\u001b[K     |███████▌                        | 348 kB 5.1 MB/s eta 0:00:01\r\u001b[K     |███████▊                        | 358 kB 5.1 MB/s eta 0:00:01\r\u001b[K     |████████                        | 368 kB 5.1 MB/s eta 0:00:01\r\u001b[K     |████████▏                       | 378 kB 5.1 MB/s eta 0:00:01\r\u001b[K     |████████▍                       | 389 kB 5.1 MB/s eta 0:00:01\r\u001b[K     |████████▋                       | 399 kB 5.1 MB/s eta 0:00:01\r\u001b[K     |████████▊                       | 409 kB 5.1 MB/s eta 0:00:01\r\u001b[K     |█████████                       | 419 kB 5.1 MB/s eta 0:00:01\r\u001b[K     |█████████▏                      | 430 kB 5.1 MB/s eta 0:00:01\r\u001b[K     |█████████▍                      | 440 kB 5.1 MB/s eta 0:00:01\r\u001b[K     |█████████▋                      | 450 kB 5.1 MB/s eta 0:00:01\r\u001b[K     |█████████▉                      | 460 kB 5.1 MB/s eta 0:00:01\r\u001b[K     |██████████                      | 471 kB 5.1 MB/s eta 0:00:01\r\u001b[K     |██████████▎                     | 481 kB 5.1 MB/s eta 0:00:01\r\u001b[K     |██████████▌                     | 491 kB 5.1 MB/s eta 0:00:01\r\u001b[K     |██████████▊                     | 501 kB 5.1 MB/s eta 0:00:01\r\u001b[K     |███████████                     | 512 kB 5.1 MB/s eta 0:00:01\r\u001b[K     |███████████▏                    | 522 kB 5.1 MB/s eta 0:00:01\r\u001b[K     |███████████▍                    | 532 kB 5.1 MB/s eta 0:00:01\r\u001b[K     |███████████▋                    | 542 kB 5.1 MB/s eta 0:00:01\r\u001b[K     |███████████▉                    | 552 kB 5.1 MB/s eta 0:00:01\r\u001b[K     |████████████                    | 563 kB 5.1 MB/s eta 0:00:01\r\u001b[K     |████████████▎                   | 573 kB 5.1 MB/s eta 0:00:01\r\u001b[K     |████████████▌                   | 583 kB 5.1 MB/s eta 0:00:01\r\u001b[K     |████████████▊                   | 593 kB 5.1 MB/s eta 0:00:01\r\u001b[K     |█████████████                   | 604 kB 5.1 MB/s eta 0:00:01\r\u001b[K     |█████████████▏                  | 614 kB 5.1 MB/s eta 0:00:01\r\u001b[K     |█████████████▍                  | 624 kB 5.1 MB/s eta 0:00:01\r\u001b[K     |█████████████▋                  | 634 kB 5.1 MB/s eta 0:00:01\r\u001b[K     |█████████████▉                  | 645 kB 5.1 MB/s eta 0:00:01\r\u001b[K     |██████████████                  | 655 kB 5.1 MB/s eta 0:00:01\r\u001b[K     |██████████████▎                 | 665 kB 5.1 MB/s eta 0:00:01\r\u001b[K     |██████████████▌                 | 675 kB 5.1 MB/s eta 0:00:01\r\u001b[K     |██████████████▊                 | 686 kB 5.1 MB/s eta 0:00:01\r\u001b[K     |███████████████                 | 696 kB 5.1 MB/s eta 0:00:01\r\u001b[K     |███████████████▏                | 706 kB 5.1 MB/s eta 0:00:01\r\u001b[K     |███████████████▍                | 716 kB 5.1 MB/s eta 0:00:01\r\u001b[K     |███████████████▋                | 727 kB 5.1 MB/s eta 0:00:01\r\u001b[K     |███████████████▉                | 737 kB 5.1 MB/s eta 0:00:01\r\u001b[K     |████████████████                | 747 kB 5.1 MB/s eta 0:00:01\r\u001b[K     |████████████████▎               | 757 kB 5.1 MB/s eta 0:00:01\r\u001b[K     |████████████████▌               | 768 kB 5.1 MB/s eta 0:00:01\r\u001b[K     |████████████████▊               | 778 kB 5.1 MB/s eta 0:00:01\r\u001b[K     |█████████████████               | 788 kB 5.1 MB/s eta 0:00:01\r\u001b[K     |█████████████████▏              | 798 kB 5.1 MB/s eta 0:00:01\r\u001b[K     |█████████████████▎              | 808 kB 5.1 MB/s eta 0:00:01\r\u001b[K     |█████████████████▌              | 819 kB 5.1 MB/s eta 0:00:01\r\u001b[K     |█████████████████▊              | 829 kB 5.1 MB/s eta 0:00:01\r\u001b[K     |██████████████████              | 839 kB 5.1 MB/s eta 0:00:01\r\u001b[K     |██████████████████▏             | 849 kB 5.1 MB/s eta 0:00:01\r\u001b[K     |██████████████████▍             | 860 kB 5.1 MB/s eta 0:00:01\r\u001b[K     |██████████████████▋             | 870 kB 5.1 MB/s eta 0:00:01\r\u001b[K     |██████████████████▉             | 880 kB 5.1 MB/s eta 0:00:01\r\u001b[K     |███████████████████             | 890 kB 5.1 MB/s eta 0:00:01\r\u001b[K     |███████████████████▎            | 901 kB 5.1 MB/s eta 0:00:01\r\u001b[K     |███████████████████▌            | 911 kB 5.1 MB/s eta 0:00:01\r\u001b[K     |███████████████████▊            | 921 kB 5.1 MB/s eta 0:00:01\r\u001b[K     |████████████████████            | 931 kB 5.1 MB/s eta 0:00:01\r\u001b[K     |████████████████████▏           | 942 kB 5.1 MB/s eta 0:00:01\r\u001b[K     |████████████████████▍           | 952 kB 5.1 MB/s eta 0:00:01\r\u001b[K     |████████████████████▋           | 962 kB 5.1 MB/s eta 0:00:01\r\u001b[K     |████████████████████▉           | 972 kB 5.1 MB/s eta 0:00:01\r\u001b[K     |█████████████████████           | 983 kB 5.1 MB/s eta 0:00:01\r\u001b[K     |█████████████████████▎          | 993 kB 5.1 MB/s eta 0:00:01\r\u001b[K     |█████████████████████▌          | 1.0 MB 5.1 MB/s eta 0:00:01\r\u001b[K     |█████████████████████▊          | 1.0 MB 5.1 MB/s eta 0:00:01\r\u001b[K     |██████████████████████          | 1.0 MB 5.1 MB/s eta 0:00:01\r\u001b[K     |██████████████████████▏         | 1.0 MB 5.1 MB/s eta 0:00:01\r\u001b[K     |██████████████████████▍         | 1.0 MB 5.1 MB/s eta 0:00:01\r\u001b[K     |██████████████████████▋         | 1.1 MB 5.1 MB/s eta 0:00:01\r\u001b[K     |██████████████████████▉         | 1.1 MB 5.1 MB/s eta 0:00:01\r\u001b[K     |███████████████████████         | 1.1 MB 5.1 MB/s eta 0:00:01\r\u001b[K     |███████████████████████▎        | 1.1 MB 5.1 MB/s eta 0:00:01\r\u001b[K     |███████████████████████▌        | 1.1 MB 5.1 MB/s eta 0:00:01\r\u001b[K     |███████████████████████▊        | 1.1 MB 5.1 MB/s eta 0:00:01\r\u001b[K     |████████████████████████        | 1.1 MB 5.1 MB/s eta 0:00:01\r\u001b[K     |████████████████████████▏       | 1.1 MB 5.1 MB/s eta 0:00:01\r\u001b[K     |████████████████████████▍       | 1.1 MB 5.1 MB/s eta 0:00:01\r\u001b[K     |████████████████████████▋       | 1.1 MB 5.1 MB/s eta 0:00:01\r\u001b[K     |████████████████████████▉       | 1.2 MB 5.1 MB/s eta 0:00:01\r\u001b[K     |█████████████████████████       | 1.2 MB 5.1 MB/s eta 0:00:01\r\u001b[K     |█████████████████████████▎      | 1.2 MB 5.1 MB/s eta 0:00:01\r\u001b[K     |█████████████████████████▌      | 1.2 MB 5.1 MB/s eta 0:00:01\r\u001b[K     |█████████████████████████▊      | 1.2 MB 5.1 MB/s eta 0:00:01\r\u001b[K     |█████████████████████████▉      | 1.2 MB 5.1 MB/s eta 0:00:01\r\u001b[K     |██████████████████████████      | 1.2 MB 5.1 MB/s eta 0:00:01\r\u001b[K     |██████████████████████████▎     | 1.2 MB 5.1 MB/s eta 0:00:01\r\u001b[K     |██████████████████████████▌     | 1.2 MB 5.1 MB/s eta 0:00:01\r\u001b[K     |██████████████████████████▊     | 1.2 MB 5.1 MB/s eta 0:00:01\r\u001b[K     |███████████████████████████     | 1.3 MB 5.1 MB/s eta 0:00:01\r\u001b[K     |███████████████████████████▏    | 1.3 MB 5.1 MB/s eta 0:00:01\r\u001b[K     |███████████████████████████▍    | 1.3 MB 5.1 MB/s eta 0:00:01\r\u001b[K     |███████████████████████████▋    | 1.3 MB 5.1 MB/s eta 0:00:01\r\u001b[K     |███████████████████████████▉    | 1.3 MB 5.1 MB/s eta 0:00:01\r\u001b[K     |████████████████████████████    | 1.3 MB 5.1 MB/s eta 0:00:01\r\u001b[K     |████████████████████████████▎   | 1.3 MB 5.1 MB/s eta 0:00:01\r\u001b[K     |████████████████████████████▌   | 1.3 MB 5.1 MB/s eta 0:00:01\r\u001b[K     |████████████████████████████▊   | 1.3 MB 5.1 MB/s eta 0:00:01\r\u001b[K     |█████████████████████████████   | 1.4 MB 5.1 MB/s eta 0:00:01\r\u001b[K     |█████████████████████████████▏  | 1.4 MB 5.1 MB/s eta 0:00:01\r\u001b[K     |█████████████████████████████▍  | 1.4 MB 5.1 MB/s eta 0:00:01\r\u001b[K     |█████████████████████████████▋  | 1.4 MB 5.1 MB/s eta 0:00:01\r\u001b[K     |█████████████████████████████▉  | 1.4 MB 5.1 MB/s eta 0:00:01\r\u001b[K     |██████████████████████████████  | 1.4 MB 5.1 MB/s eta 0:00:01\r\u001b[K     |██████████████████████████████▎ | 1.4 MB 5.1 MB/s eta 0:00:01\r\u001b[K     |██████████████████████████████▌ | 1.4 MB 5.1 MB/s eta 0:00:01\r\u001b[K     |██████████████████████████████▊ | 1.4 MB 5.1 MB/s eta 0:00:01\r\u001b[K     |███████████████████████████████ | 1.4 MB 5.1 MB/s eta 0:00:01\r\u001b[K     |███████████████████████████████▏| 1.5 MB 5.1 MB/s eta 0:00:01\r\u001b[K     |███████████████████████████████▍| 1.5 MB 5.1 MB/s eta 0:00:01\r\u001b[K     |███████████████████████████████▋| 1.5 MB 5.1 MB/s eta 0:00:01\r\u001b[K     |███████████████████████████████▉| 1.5 MB 5.1 MB/s eta 0:00:01\r\u001b[K     |████████████████████████████████| 1.5 MB 5.1 MB/s \n",
            "\u001b[?25hRequirement already satisfied: python-dateutil>=2.4 in /usr/local/lib/python3.7/dist-packages (from faker) (2.8.2)\n",
            "Requirement already satisfied: typing-extensions>=3.10.0.2 in /usr/local/lib/python3.7/dist-packages (from faker) (3.10.0.2)\n",
            "Requirement already satisfied: six>=1.5 in /usr/local/lib/python3.7/dist-packages (from python-dateutil>=2.4->faker) (1.15.0)\n",
            "Installing collected packages: faker\n",
            "Successfully installed faker-13.3.0\n"
          ]
        }
      ]
    },
    {
      "cell_type": "code",
      "metadata": {
        "id": "vO2Uhcwrhw8-",
        "colab": {
          "base_uri": "https://localhost:8080/"
        },
        "outputId": "b930f8e2-9e3a-4ad0-c1f9-6515f295d4f2"
      },
      "source": [
        "from faker import Faker\n",
        "\n",
        "fake = Faker()\n",
        "\n",
        "for _ in range(10):\n",
        "  print('{} || {} '.format( fake.name(), fake.job() ) )"
      ],
      "execution_count": 14,
      "outputs": [
        {
          "output_type": "stream",
          "name": "stdout",
          "text": [
            "Stephen Golden || Music tutor \n",
            "Kyle Carson || Television production assistant \n",
            "Sandra Atkins || Administrator \n",
            "Christina Kerr || Gaffer \n",
            "Rachel Davis || Artist \n",
            "Ashley Cruz MD || Equities trader \n",
            "Henry Austin || Futures trader \n",
            "Alice Nichols || Accountant, chartered certified \n",
            "Jeffery Reed || Producer, radio \n",
            "Dr. Adam Hernandez || Designer, graphic \n"
          ]
        }
      ]
    },
    {
      "cell_type": "markdown",
      "metadata": {
        "id": "IsYIsSvRjmiG"
      },
      "source": [
        "Very cool! Faker has tons of `providers` that can all be used to populate fake data. The [list of providers](https://faker.readthedocs.io/en/stable/providers.html) in the Faker documentation will help you fill out the columns for our People table.\n",
        "\n",
        "The goal of this script is to populate the people table with 1000 entries, with the following constraints:\n",
        "\n",
        "1. The `heatmap` column must contain a random number between `999` and `2500`\n",
        "2. The `created_at` and `updated_at` columns must use the `datetime` object (see examples above) \n",
        "2. Use `Faker` to generate all other fields.\n",
        "\n",
        "*Hint: Each of the methods contained in the provider can be called directly from the base Faker object, for example, one can call the `file_name()` method from `faker.providers.file` by calling `Faker().file_name()`*"
      ]
    },
    {
      "cell_type": "code",
      "metadata": {
        "id": "Yi-fE0uUlor4",
        "colab": {
          "base_uri": "https://localhost:8080/"
        },
        "outputId": "436aa215-7d36-4943-d330-591dbdbad8fb"
      },
      "source": [
        "import sqlite3\n",
        "from pprint import pprint\n",
        "from faker import Faker\n",
        "from datetime import datetime #For generating dates and times\n",
        "#Don't forget to import the module to generate random numbers!\n",
        "\n",
        "#Retreive the Connection object\n",
        "myConnection = sqlite3.connect('social_network.db')\n",
        "\n",
        "#Once we have a Connection object, we can generate a Cursor object, and use that to run our SQL Queries\n",
        "myCursor = myConnection.cursor()\n",
        "\n",
        "#This is the same syntax as the above example:\n",
        "addPersonQuery = \"\"\"INSERT INTO people (name, \n",
        "                      email, \n",
        "                      address, \n",
        "                      city, \n",
        "                      province, \n",
        "                      country, \n",
        "                      phone, \n",
        "                      bio,\n",
        "                      dob,\n",
        "                      heatmap,\n",
        "                      created_at, \n",
        "                      updated_at, \n",
        "                      ipv4)\n",
        "                  VALUES (?, ?, ?, ?, ?, ?, ?, ?, ?, ?, ?, ?, ?);\"\"\"\n",
        "\n",
        "fake = Faker()\n",
        "\n",
        "for i in range(1000):\n",
        "\n",
        "   myPerson = (fake.name(), \n",
        "            fake.ascii_safe_email(), \n",
        "            fake.street_address(), \n",
        "            fake.city(),\n",
        "            fake.city_suffix(),\n",
        "            fake.country(), \n",
        "            fake.phone_number(), \n",
        "            fake.sentence(nb_words=5), \n",
        "            fake.date(),\n",
        "            fake.random_int(min=999, max=2500),\n",
        "            datetime.now(), \n",
        "            datetime.now(),\n",
        "             fake.ipv4())\n",
        "    \n",
        "\n",
        "\n",
        "myCursor.execute(addPersonQuery, myPerson)\n",
        "\n",
        "myCursor.execute(\"SELECT * FROM people\")\n",
        "\n",
        "\n",
        "\n",
        "\n",
        "for record in myCursor:\n",
        "  pprint(record)\n",
        "\n",
        "                    \n",
        "#Ideally, you will want to create a loop that will iterate 1000 times,\n",
        "#Observe the example in the earlier code block showing the parameter tuple `myPerson`\n",
        "#You can duplicate that inside your loop and replace those fields with calls to the appropriate faker provider method\n",
        "#Execute your statement inside the loop,\n",
        "#But, don't forget to commit and close your connection when you have finished!\n",
        "myConnection.commit()\n",
        "myConnection.close()"
      ],
      "execution_count": 41,
      "outputs": [
        {
          "output_type": "stream",
          "name": "stdout",
          "text": [
            "(1,\n",
            " 'John Doe',\n",
            " 'johndoe@anon.null',\n",
            " '123 Fake St.',\n",
            " 'Fakesville',\n",
            " 'Fakesdom',\n",
            " 'Fakopolis',\n",
            " None,\n",
            " None,\n",
            " '1967-09-12',\n",
            " 0,\n",
            " '2022-03-04 16:28:19.748684',\n",
            " '2022-03-04 16:28:19.748698',\n",
            " None)\n",
            "(2,\n",
            " 'Zachary Ward',\n",
            " 'ubrooks@example.org',\n",
            " '93929 Smith Estates Apt. 284',\n",
            " 'Port Jose',\n",
            " 'berg',\n",
            " 'Faroe Islands',\n",
            " '3954609051',\n",
            " 'Too three small chair main.',\n",
            " '1984-06-29',\n",
            " 1126,\n",
            " '2022-03-04 16:31:04.905393',\n",
            " '2022-03-04 16:31:04.905394',\n",
            " '64.17.90.112')\n",
            "(3,\n",
            " 'Kathryn Carroll',\n",
            " 'gillyolanda@example.net',\n",
            " '9521 Smith Row Apt. 879',\n",
            " 'West Joseph',\n",
            " 'haven',\n",
            " 'Jamaica',\n",
            " '001-443-406-6638x959',\n",
            " 'Amount cup want.',\n",
            " '2013-02-04',\n",
            " 1864,\n",
            " '2022-03-04 16:31:44.908492',\n",
            " '2022-03-04 16:31:44.908493',\n",
            " '216.78.40.158')\n",
            "(4,\n",
            " 'Andrea Olson',\n",
            " 'sevans@example.org',\n",
            " '155 Kayla Pass',\n",
            " 'Lake Derekmouth',\n",
            " 'bury',\n",
            " 'Iran',\n",
            " '846.360.9268x78975',\n",
            " 'Around forward safe.',\n",
            " '1989-06-23',\n",
            " 1206,\n",
            " '2022-03-04 16:32:29.239429',\n",
            " '2022-03-04 16:32:29.239430',\n",
            " '154.9.162.225')\n",
            "(5,\n",
            " 'Bridget Walsh',\n",
            " 'michael80@example.net',\n",
            " '004 Kevin Junctions Apt. 132',\n",
            " 'Aliciastad',\n",
            " 'fort',\n",
            " 'Turkey',\n",
            " '(715)881-3979x67818',\n",
            " 'Military fact southern that.',\n",
            " '1998-06-08',\n",
            " 1372,\n",
            " '2022-03-04 16:35:26.142971',\n",
            " '2022-03-04 16:35:26.142972',\n",
            " '194.175.202.57')\n",
            "(6,\n",
            " 'Alicia Hughes',\n",
            " 'jeremysmith@example.net',\n",
            " '7046 Hunter Track',\n",
            " 'Kellyfort',\n",
            " 'port',\n",
            " 'Kyrgyz Republic',\n",
            " '001-362-411-1152x181',\n",
            " 'Report learn ahead.',\n",
            " '2011-03-26',\n",
            " 1484,\n",
            " '2022-03-04 16:38:30.274001',\n",
            " '2022-03-04 16:38:30.274002',\n",
            " '113.174.217.197')\n",
            "(7,\n",
            " 'Ryan Lee',\n",
            " 'ysimmons@example.net',\n",
            " '77692 Holt Glen Suite 886',\n",
            " 'Krystalhaven',\n",
            " 'port',\n",
            " 'Macedonia',\n",
            " '(882)710-8696x2608',\n",
            " 'Well low into on.',\n",
            " '1998-10-20',\n",
            " 1460,\n",
            " '2022-03-04 16:38:50.243703',\n",
            " '2022-03-04 16:38:50.243704',\n",
            " '121.29.75.43')\n",
            "(8,\n",
            " 'Anna Greer',\n",
            " 'pbaker@example.com',\n",
            " '920 Matthew Mills',\n",
            " 'Frenchland',\n",
            " 'town',\n",
            " 'Turks and Caicos Islands',\n",
            " '7199901257',\n",
            " 'Door fast and.',\n",
            " '2003-06-28',\n",
            " 1910,\n",
            " '2022-03-04 16:47:18.848704',\n",
            " '2022-03-04 16:47:18.848706',\n",
            " '71.186.159.154')\n",
            "(9,\n",
            " 'Meagan Barnes',\n",
            " 'deanna89@example.org',\n",
            " '74989 Williams Hill',\n",
            " 'West Cassandra',\n",
            " 'shire',\n",
            " 'Japan',\n",
            " '941.294.7206',\n",
            " 'Institution final discuss.',\n",
            " '1999-03-20',\n",
            " 2163,\n",
            " '2022-03-04 16:48:32.180780',\n",
            " '2022-03-04 16:48:32.180781',\n",
            " '96.145.52.152')\n",
            "(10,\n",
            " 'Daniel Williams',\n",
            " 'daniellewis@example.net',\n",
            " '0962 Grimes Route Suite 393',\n",
            " 'Port Elizabeth',\n",
            " 'bury',\n",
            " 'Croatia',\n",
            " '(228)269-1369x151',\n",
            " 'Data measure check doctor as customer.',\n",
            " '1991-08-21',\n",
            " 1494,\n",
            " '2022-03-04 16:53:46.634467',\n",
            " '2022-03-04 16:53:46.634468',\n",
            " '222.135.250.131')\n",
            "(11,\n",
            " 'Kimberly Johnson',\n",
            " 'hartsean@example.org',\n",
            " '269 Reed Vista Apt. 182',\n",
            " 'West David',\n",
            " 'mouth',\n",
            " 'Bangladesh',\n",
            " '672.417.7385x209',\n",
            " 'Generation whom with.',\n",
            " '2018-11-01',\n",
            " 2499,\n",
            " '2022-03-04 16:54:08.055415',\n",
            " '2022-03-04 16:54:08.055417',\n",
            " '11.188.214.54')\n",
            "(12,\n",
            " 'Mr. Stephen Green DDS',\n",
            " 'iperry@example.net',\n",
            " '008 Tracy Harbor',\n",
            " 'Andrewmouth',\n",
            " 'borough',\n",
            " 'Isle of Man',\n",
            " '4700303611',\n",
            " 'Executive hotel not when.',\n",
            " '2003-06-05',\n",
            " 1255,\n",
            " '2022-03-04 16:54:12.508743',\n",
            " '2022-03-04 16:54:12.508744',\n",
            " '69.1.128.194')\n",
            "(13,\n",
            " 'Mr. Bryce Williams DDS',\n",
            " 'nicholas52@example.net',\n",
            " '9043 Smith Islands',\n",
            " 'Medinaport',\n",
            " 'port',\n",
            " 'Cook Islands',\n",
            " '4590518912',\n",
            " 'Management trial quickly glass.',\n",
            " '1984-07-02',\n",
            " 1498,\n",
            " '2022-03-04 16:54:15.015411',\n",
            " '2022-03-04 16:54:15.015413',\n",
            " '37.184.75.174')\n",
            "(14,\n",
            " 'Nicole Schmidt',\n",
            " 'zacharyparks@example.com',\n",
            " '06392 John Club Suite 923',\n",
            " 'Davischester',\n",
            " 'view',\n",
            " 'Guinea-Bissau',\n",
            " '879-009-4078',\n",
            " 'Life continue central Mrs.',\n",
            " '2008-07-26',\n",
            " 2380,\n",
            " '2022-03-04 16:54:17.010635',\n",
            " '2022-03-04 16:54:17.010636',\n",
            " '1.222.205.16')\n",
            "(15,\n",
            " 'David Powell',\n",
            " 'dprice@example.org',\n",
            " '77722 Mendez Inlet',\n",
            " 'Johnborough',\n",
            " 'mouth',\n",
            " 'Saudi Arabia',\n",
            " '808-901-9911x99022',\n",
            " 'Morning save chair.',\n",
            " '2008-02-04',\n",
            " 1411,\n",
            " '2022-03-04 16:54:18.946592',\n",
            " '2022-03-04 16:54:18.946594',\n",
            " '19.161.182.254')\n",
            "(16,\n",
            " 'Jeffrey Williams',\n",
            " 'rodney27@example.net',\n",
            " '564 Rebecca Heights',\n",
            " 'Ramosbury',\n",
            " 'ville',\n",
            " 'Armenia',\n",
            " '(727)850-0477',\n",
            " 'New kid space its research.',\n",
            " '1989-07-10',\n",
            " 1352,\n",
            " '2022-03-04 16:54:21.214345',\n",
            " '2022-03-04 16:54:21.214346',\n",
            " '52.184.56.189')\n",
            "(17,\n",
            " 'Michael Valdez',\n",
            " 'richardbowman@example.org',\n",
            " '127 Campbell Rest Suite 804',\n",
            " 'West Dennisville',\n",
            " 'furt',\n",
            " 'Romania',\n",
            " '961-961-1716',\n",
            " 'How themselves whole everything over home.',\n",
            " '1997-03-07',\n",
            " 1050,\n",
            " '2022-03-04 16:54:23.232191',\n",
            " '2022-03-04 16:54:23.232192',\n",
            " '144.78.218.125')\n",
            "(18,\n",
            " 'John Simpson',\n",
            " 'timothy49@example.net',\n",
            " '7019 Black Port Apt. 462',\n",
            " 'New Bonnie',\n",
            " 'stad',\n",
            " 'French Polynesia',\n",
            " '9663928565',\n",
            " 'Language author project ready here fill.',\n",
            " '1986-07-02',\n",
            " 1583,\n",
            " '2022-03-04 16:54:25.139011',\n",
            " '2022-03-04 16:54:25.139012',\n",
            " '63.224.132.174')\n",
            "(19,\n",
            " 'Sarah Robinson',\n",
            " 'john00@example.org',\n",
            " '881 Wall Bridge Suite 004',\n",
            " 'Lake Jon',\n",
            " 'ville',\n",
            " 'Syrian Arab Republic',\n",
            " '866.843.8762x81351',\n",
            " 'Now lay use.',\n",
            " '2017-02-28',\n",
            " 1578,\n",
            " '2022-03-04 16:54:27.001211',\n",
            " '2022-03-04 16:54:27.001213',\n",
            " '56.237.194.49')\n",
            "(20,\n",
            " 'Troy Guzman',\n",
            " 'pughbenjamin@example.org',\n",
            " '12727 Esparza Dale',\n",
            " 'Barronmouth',\n",
            " 'burgh',\n",
            " 'Jamaica',\n",
            " '001-177-769-0692x1175',\n",
            " 'Another food watch wait her hot.',\n",
            " '1998-08-07',\n",
            " 2480,\n",
            " '2022-03-04 16:54:29.052323',\n",
            " '2022-03-04 16:54:29.052324',\n",
            " '21.150.5.199')\n",
            "(21,\n",
            " 'Monica Garcia',\n",
            " 'chad38@example.com',\n",
            " '5172 Mcguire Island Apt. 640',\n",
            " 'Maryfort',\n",
            " 'stad',\n",
            " 'Belgium',\n",
            " '(615)417-7606x42362',\n",
            " 'Organization dog computer.',\n",
            " '2015-11-11',\n",
            " 2089,\n",
            " '2022-03-04 16:54:40.048924',\n",
            " '2022-03-04 16:54:40.048925',\n",
            " '211.106.75.232')\n",
            "(22,\n",
            " 'Taylor Watson',\n",
            " 'kcordova@example.com',\n",
            " '7582 Chan Street',\n",
            " 'Thomasberg',\n",
            " 'town',\n",
            " 'Kuwait',\n",
            " '189.479.9086x93927',\n",
            " 'College camera run end last safe.',\n",
            " '1988-04-10',\n",
            " 1773,\n",
            " '2022-03-04 16:54:46.413454',\n",
            " '2022-03-04 16:54:46.413455',\n",
            " '142.56.231.109')\n",
            "(23,\n",
            " 'Marc Terry',\n",
            " 'lewisjoseph@example.net',\n",
            " '433 Patrick Neck',\n",
            " 'Port Amber',\n",
            " 'chester',\n",
            " 'Jordan',\n",
            " '+1-131-036-2765',\n",
            " 'Citizen military religious pull.',\n",
            " '1974-09-05',\n",
            " 2317,\n",
            " '2022-03-04 16:55:04.370465',\n",
            " '2022-03-04 16:55:04.370466',\n",
            " '148.171.252.60')\n"
          ]
        }
      ]
    },
    {
      "cell_type": "markdown",
      "metadata": {
        "id": "mVEgfYArnITl"
      },
      "source": [
        "Finally, the last step,\n",
        "Using the code block below, combined with what you have learned above, and the Lecture notes,\n",
        "Craft a SQL Query that will return the `name` of no more than `20` `people` with a `heatmap` greater than `1500`"
      ]
    },
    {
      "cell_type": "code",
      "metadata": {
        "id": "oN6wSS9roOP6",
        "outputId": "1383419c-0bbf-46bb-d8c9-855ea8972823",
        "colab": {
          "base_uri": "https://localhost:8080/"
        }
      },
      "source": [
        "import sqlite3\n",
        "from pprint import pprint\n",
        "#Retreive the Connection object\n",
        "myConnection = sqlite3.connect('social_network.db')\n",
        "\n",
        "#Once we have a Connection object, we can generate a Cursor object, and use that to run our SQL Queries\n",
        "myCursor = myConnection.cursor()\n",
        "\n",
        "selectStatement =\"\"\" SELECT name FROM people\n",
        "                      WHERE heatmap > 1500 LIMIT 20 \"\"\"\n",
        "\n",
        "myCursor.execute(selectStatement)\n",
        "results = myCursor.fetchall()\n",
        "pprint(results)"
      ],
      "execution_count": 42,
      "outputs": [
        {
          "output_type": "stream",
          "name": "stdout",
          "text": [
            "[('Kathryn Carroll',),\n",
            " ('Anna Greer',),\n",
            " ('Meagan Barnes',),\n",
            " ('Kimberly Johnson',),\n",
            " ('Nicole Schmidt',),\n",
            " ('John Simpson',),\n",
            " ('Sarah Robinson',),\n",
            " ('Troy Guzman',),\n",
            " ('Monica Garcia',),\n",
            " ('Taylor Watson',),\n",
            " ('Marc Terry',)]\n"
          ]
        }
      ]
    },
    {
      "cell_type": "markdown",
      "metadata": {
        "id": "qwNrP7FfpJg2"
      },
      "source": [
        "Your submission will contain, as usual, a link to your completed colab notebook, but in addition to that, you will download a copy of your social_network.db file and upload it to D2L. To download the file, right click it from the Files menu on the left of the Notebook."
      ]
    }
  ]
}